{
 "cells": [
  {
   "cell_type": "markdown",
   "id": "58ee0d70",
   "metadata": {},
   "source": [
    "# Defect Detection Assessment\n",
    "\n",
    "---\n",
    "## 1. Introduction\n",
    "\n",
    "### 1.1 Problem Understanding\n",
    "\n",
    "**My first step is to clearly understand the assessment task.**  \n",
    "In this assessment, I have been provided with two datasets:\n",
    "\n",
    "- **Dataset A**: Manually collected defect detection results (ground‑truth annotations).  \n",
    "- **Dataset B**: System‑generated defect detection results (model predictions with confidence scores).\n",
    "\n",
    "**The core objectives are:**\n",
    "\n",
    "1. **Analyze both datasets** to understand their contents, distributions, and relationships.  \n",
    "2. **Determine optimal confidence thresholds** for the model’s predictions in Dataset B that balance precision and recall.  \n",
    "3. **Compute and compare standard classification metrics** (accuracy, precision, recall, F1‑score) for both datasets.  \n",
    "4. **Propose concrete improvements** for model retraining—covering data quality, preprocessing, model architecture, and augmentation strategies.  \n",
    "5. **Document my entire process** with screen recording and audio commentary, showing my exploration, questioning, use of AI tools, and rationale at each step.\n",
    "\n",
    "I will approach this systematically:  \n",
    "1. Data exploration → 2. Threshold analysis → 3. Metric computation → 4. Recommendations → 5. Video walkthrough.\n",
    "\n",
    "---\n",
    "\n",
    "### 1.2 Data Understanding\n",
    "\n",
    "First and foremost, I will build a conceptual understanding of the domain and the specific datasets.\n",
    "\n",
    "**What is Defect Detection?**  \n",
    "Defect detection refers to the automated identification and localization of flaws—such as cracks, scratches, foreign bodies, or missing components—on manufactured products or materials. \n",
    "\n",
    "The provided data seems to come from a medical or biological context. The defect class \"Mononukleäre Zelle\" is German for \"Mononuclear Cell\" (specifically, a Peripheral Blood Mononuclear Cell). These are key cells in the human immune system, like lymphocytes and monocytes. Therefore, this is likely a system for analyzing blood-sample images to identify specific types of cells, which could be for disease diagnosis or medical research. The \"defects\" are the cells of interest.\n",
    "\n",
    "Typically:\n",
    "\n",
    "- **Ground-truth annotations (anno_df.csv)** are created by human inspectors who mark each defect’s location (e.g., bounding polygon) and class label.  \n",
    "- **Model predictions (pred_df.csv)** assign each detected region a defect class and a confidence score indicating the model’s certainty.\n",
    "\n",
    "**What do the Datasets Represent?**  \n",
    "- **Dataset A (Annotations)**  \n",
    "  - Contains one record per annotated defect.  \n",
    "  - Fields include:\n",
    "    - *filename / image_id:* Identifies the source image.\n",
    "    - *label:* The specific type of cell, in this case, \"Mononukleäre Zelle\".\n",
    "    - xy, x, y: These columns define the precise location and shape of the cell on the image, likely as a polygon or bounding box.\n",
    "\n",
    "- **Dataset B (Predictions)**  \n",
    "  - Contains one record per predicted defect.  \n",
    "  - Fields include: \n",
    "    - *image_id:* Links the prediction back to a specific image.\n",
    "    - *prediction_class:* The class the model predicted (e.g., \"Defect\").\n",
    "    - *confidence:* This is a crucial field. It's a number between 0 and 1 representing how \"sure\" the model is about its prediction.\n",
    "    - *xy:* The location and shape of the predicted defect.\n",
    "\n",
    "---\n",
    "\n",
    "### 1.3 Overall Analysis Plan (High‑Level)\n",
    "\n",
    "After clearly understand the task, my next step is my planned workflow:\n",
    "\n",
    "1. **Data Loading & Inspection**  \n",
    "   - Load both CSVs and inspect shapes, columns, and sample rows.  \n",
    "   - Check for missing values, duplicates, and coordinate format consistency.\n",
    "\n",
    "2. **Exploratory Statistics & Visualizations**  \n",
    "   - Class distribution histograms for ground‑truth vs. predictions.  \n",
    "   - Confidence‐score distribution plot.  \n",
    "   - Summary of image counts and defect counts per image.\n",
    "\n",
    "3. **Matching Logic Definition**  \n",
    "   - Define an Intersection over Union (IoU) based matching function to pair predictions with annotations.\n",
    "\n",
    "4. **Threshold Sweep & Metric Calculation**  \n",
    "   - Evaluate metrics (precision, recall, F1, accuracy) across a range of confidence thresholds.  \n",
    "   - Identify optimal thresholds (e.g. maximize F1 or meet a precision/recall requirement).\n",
    "\n",
    "5. **Comparative Analysis**  \n",
    "   - Compare performance metrics between Dataset A and Dataset B at their respective thresholds.\n",
    "\n",
    "6. **Recommendations**  \n",
    "   - Propose targeted improvements in data collection, preprocessing, model training, and augmentation.\n",
    "\n",
    "---\n",
    "\n",
    "*Next,* I will start **Step 1: Data Loading & Inspection** using code, beginning with importing necessary libraries and loading the CSV files.\n"
   ]
  },
  {
   "cell_type": "markdown",
   "id": "28dc6eda",
   "metadata": {},
   "source": [
    "## 2. Data Analysis and Exploration"
   ]
  },
  {
   "cell_type": "code",
   "execution_count": 1,
   "id": "1f8d1445",
   "metadata": {},
   "outputs": [],
   "source": [
    "# import basic libraries\n",
    "import os, sys\n",
    "import pandas as pd\n",
    "import numpy as np\n",
    "import matplotlib.pyplot as plt\n",
    "import seaborn as sns\n",
    "%matplotlib inline\n",
    "\n",
    "# get working directory\n",
    "sys.path.append(os.path.abspath('..'))\n",
    "\n",
    "# get modules\n",
    "\n",
    "from scripts.data_preprocessing import *"
   ]
  },
  {
   "cell_type": "markdown",
   "id": "ab3293e3",
   "metadata": {},
   "source": [
    "### Load DataSet"
   ]
  },
  {
   "cell_type": "code",
   "execution_count": 2,
   "id": "73e9b549",
   "metadata": {},
   "outputs": [
    {
     "name": "stdout",
     "output_type": "stream",
     "text": [
      "Loading Datasets...\n",
      "Successfully loaded 'anno_df.csv' and 'pred_df.csv'.\n",
      "\n"
     ]
    }
   ],
   "source": [
    "anno_df_path, pred_df_path = '../data/anno_df.csv', '../data/pred_df.csv'\n",
    "anno_df, pred_df = load_datasets(anno_df_path, pred_df_path)"
   ]
  },
  {
   "cell_type": "markdown",
   "id": "b625ecb5",
   "metadata": {},
   "source": [
    "### Exploring the Ground Truth Data (anno_df)"
   ]
  },
  {
   "cell_type": "code",
   "execution_count": 3,
   "id": "da752124",
   "metadata": {},
   "outputs": [
    {
     "data": {
      "text/html": [
       "<div>\n",
       "<style scoped>\n",
       "    .dataframe tbody tr th:only-of-type {\n",
       "        vertical-align: middle;\n",
       "    }\n",
       "\n",
       "    .dataframe tbody tr th {\n",
       "        vertical-align: top;\n",
       "    }\n",
       "\n",
       "    .dataframe thead th {\n",
       "        text-align: right;\n",
       "    }\n",
       "</style>\n",
       "<table border=\"1\" class=\"dataframe\">\n",
       "  <thead>\n",
       "    <tr style=\"text-align: right;\">\n",
       "      <th></th>\n",
       "      <th>filename</th>\n",
       "      <th>image_id</th>\n",
       "      <th>id</th>\n",
       "      <th>defect_class_id</th>\n",
       "      <th>label</th>\n",
       "      <th>xy</th>\n",
       "      <th>x</th>\n",
       "      <th>y</th>\n",
       "    </tr>\n",
       "  </thead>\n",
       "  <tbody>\n",
       "    <tr>\n",
       "      <th>0</th>\n",
       "      <td>1g_04.png</td>\n",
       "      <td>624</td>\n",
       "      <td>175683</td>\n",
       "      <td>7</td>\n",
       "      <td>Mononukleäre Zelle</td>\n",
       "      <td>1354,1377.48,1330.52,1389.22,1330.52,1412.699,...</td>\n",
       "      <td>[1354.0, 1330.52, 1330.52, 1350.087, 1357.913,...</td>\n",
       "      <td>[1377.48, 1389.22, 1412.699, 1424.439, 1420.52...</td>\n",
       "    </tr>\n",
       "    <tr>\n",
       "      <th>1</th>\n",
       "      <td>1g_04.png</td>\n",
       "      <td>624</td>\n",
       "      <td>175664</td>\n",
       "      <td>7</td>\n",
       "      <td>Mononukleäre Zelle</td>\n",
       "      <td>223.058,1804.029,199.578,1800.116,191.751,1815...</td>\n",
       "      <td>[223.058, 199.578, 191.751, 203.491, 223.058, ...</td>\n",
       "      <td>[1804.029, 1800.116, 1815.769, 1831.422, 1835....</td>\n",
       "    </tr>\n",
       "    <tr>\n",
       "      <th>2</th>\n",
       "      <td>1g_04.png</td>\n",
       "      <td>624</td>\n",
       "      <td>175634</td>\n",
       "      <td>7</td>\n",
       "      <td>Mononukleäre Zelle</td>\n",
       "      <td>1549.665,1005.717,1545.751,1013.543,1541.838,1...</td>\n",
       "      <td>[1549.665, 1545.751, 1541.838, 1541.838, 1557....</td>\n",
       "      <td>[1005.717, 1013.543, 1021.37, 1037.023, 1037.0...</td>\n",
       "    </tr>\n",
       "    <tr>\n",
       "      <th>3</th>\n",
       "      <td>1g_04.png</td>\n",
       "      <td>624</td>\n",
       "      <td>175654</td>\n",
       "      <td>7</td>\n",
       "      <td>Mononukleäre Zelle</td>\n",
       "      <td>661.347,1678.803,637.867,1667.064,614.387,1674...</td>\n",
       "      <td>[661.347, 637.867, 614.387, 622.214, 630.04, 6...</td>\n",
       "      <td>[1678.803, 1667.064, 1674.89, 1698.37, 1694.45...</td>\n",
       "    </tr>\n",
       "    <tr>\n",
       "      <th>4</th>\n",
       "      <td>1g_04.png</td>\n",
       "      <td>624</td>\n",
       "      <td>175633</td>\n",
       "      <td>7</td>\n",
       "      <td>Mononukleäre Zelle</td>\n",
       "      <td>1784.462,1897.948,1796.202,1886.208,1804.029,1...</td>\n",
       "      <td>[1784.462, 1796.202, 1804.029, 1780.549, 1772....</td>\n",
       "      <td>[1897.948, 1886.208, 1870.555, 1858.815, 1862....</td>\n",
       "    </tr>\n",
       "  </tbody>\n",
       "</table>\n",
       "</div>"
      ],
      "text/plain": [
       "    filename  image_id      id  defect_class_id               label  \\\n",
       "0  1g_04.png       624  175683                7  Mononukleäre Zelle   \n",
       "1  1g_04.png       624  175664                7  Mononukleäre Zelle   \n",
       "2  1g_04.png       624  175634                7  Mononukleäre Zelle   \n",
       "3  1g_04.png       624  175654                7  Mononukleäre Zelle   \n",
       "4  1g_04.png       624  175633                7  Mononukleäre Zelle   \n",
       "\n",
       "                                                  xy  \\\n",
       "0  1354,1377.48,1330.52,1389.22,1330.52,1412.699,...   \n",
       "1  223.058,1804.029,199.578,1800.116,191.751,1815...   \n",
       "2  1549.665,1005.717,1545.751,1013.543,1541.838,1...   \n",
       "3  661.347,1678.803,637.867,1667.064,614.387,1674...   \n",
       "4  1784.462,1897.948,1796.202,1886.208,1804.029,1...   \n",
       "\n",
       "                                                   x  \\\n",
       "0  [1354.0, 1330.52, 1330.52, 1350.087, 1357.913,...   \n",
       "1  [223.058, 199.578, 191.751, 203.491, 223.058, ...   \n",
       "2  [1549.665, 1545.751, 1541.838, 1541.838, 1557....   \n",
       "3  [661.347, 637.867, 614.387, 622.214, 630.04, 6...   \n",
       "4  [1784.462, 1796.202, 1804.029, 1780.549, 1772....   \n",
       "\n",
       "                                                   y  \n",
       "0  [1377.48, 1389.22, 1412.699, 1424.439, 1420.52...  \n",
       "1  [1804.029, 1800.116, 1815.769, 1831.422, 1835....  \n",
       "2  [1005.717, 1013.543, 1021.37, 1037.023, 1037.0...  \n",
       "3  [1678.803, 1667.064, 1674.89, 1698.37, 1694.45...  \n",
       "4  [1897.948, 1886.208, 1870.555, 1858.815, 1862....  "
      ]
     },
     "execution_count": 3,
     "metadata": {},
     "output_type": "execute_result"
    }
   ],
   "source": [
    "# Data preview: load the first five raw of the data\n",
    "anno_df.head()"
   ]
  },
  {
   "cell_type": "code",
   "execution_count": 4,
   "id": "896aa0af",
   "metadata": {},
   "outputs": [
    {
     "name": "stdout",
     "output_type": "stream",
     "text": [
      "\n",
      "==================================================\n",
      "Analysis of Ground Truth Data (anno_df)\n",
      "==================================================\n",
      "\n",
      "Shape: (3648, 8)\n",
      "\n",
      "Basic Information:\n",
      "<class 'pandas.core.frame.DataFrame'>\n",
      "Index: 3648 entries, 0 to 3647\n",
      "Data columns (total 8 columns):\n",
      " #   Column           Non-Null Count  Dtype \n",
      "---  ------           --------------  ----- \n",
      " 0   filename         3648 non-null   object\n",
      " 1   image_id         3648 non-null   int64 \n",
      " 2   id               3648 non-null   int64 \n",
      " 3   defect_class_id  3648 non-null   int64 \n",
      " 4   label            3648 non-null   object\n",
      " 5   xy               3648 non-null   object\n",
      " 6   x                3648 non-null   object\n",
      " 7   y                3648 non-null   object\n",
      "dtypes: int64(3), object(5)\n",
      "memory usage: 256.5+ KB\n",
      "\n",
      "Missing Values:\n",
      "filename           0\n",
      "image_id           0\n",
      "id                 0\n",
      "defect_class_id    0\n",
      "label              0\n",
      "xy                 0\n",
      "x                  0\n",
      "y                  0\n",
      "dtype: int64\n",
      "\n",
      "Summary Statistics:\n",
      "          image_id            id  defect_class_id\n",
      "count  3648.000000  3.648000e+03           3648.0\n",
      "mean   1952.283717  9.417104e+05              7.0\n",
      "std     831.767822  5.353460e+05              0.0\n",
      "min     624.000000  1.686410e+05              7.0\n",
      "25%    1455.000000  4.049428e+05              7.0\n",
      "50%    2021.000000  1.043308e+06              7.0\n",
      "75%    2862.000000  1.358439e+06              7.0\n",
      "max    3165.000000  1.870170e+06              7.0\n",
      "\n",
      "Unique Labels and Their Counts:\n",
      "label\n",
      "Mononukleäre Zelle    3648\n",
      "Name: count, dtype: int64\n",
      "\n",
      "Top 10 Unique Images and Their Counts:\n",
      "image_id\n",
      "3161    228\n",
      "1455    177\n",
      "3159    173\n",
      "2021    165\n",
      "2879    136\n",
      "1479    131\n",
      "627     128\n",
      "2876    111\n",
      "1471    106\n",
      "1177    105\n",
      "Name: count, dtype: int64\n",
      "\n",
      "Annotations per Image:\n",
      "\n",
      "Summary statistics for annotations per image:\n",
      "count     48.000000\n",
      "mean      76.000000\n",
      "std       46.515612\n",
      "min        8.000000\n",
      "25%       42.750000\n",
      "50%       66.000000\n",
      "75%       99.250000\n",
      "max      228.000000\n",
      "dtype: float64\n",
      "\n",
      "Unique Values per Column:\n",
      "image_id: 48 unique values\n",
      "id: 3648 unique values\n",
      "defect_class_id: 1 unique values\n"
     ]
    }
   ],
   "source": [
    "analyze_ground_truth_data(anno_df)"
   ]
  },
  {
   "cell_type": "markdown",
   "id": "60107762",
   "metadata": {},
   "source": [
    "### Exploring the Prediction Data (pred_df)"
   ]
  },
  {
   "cell_type": "code",
   "execution_count": 5,
   "id": "67df62e2",
   "metadata": {},
   "outputs": [
    {
     "data": {
      "text/html": [
       "<div>\n",
       "<style scoped>\n",
       "    .dataframe tbody tr th:only-of-type {\n",
       "        vertical-align: middle;\n",
       "    }\n",
       "\n",
       "    .dataframe tbody tr th {\n",
       "        vertical-align: top;\n",
       "    }\n",
       "\n",
       "    .dataframe thead th {\n",
       "        text-align: right;\n",
       "    }\n",
       "</style>\n",
       "<table border=\"1\" class=\"dataframe\">\n",
       "  <thead>\n",
       "    <tr style=\"text-align: right;\">\n",
       "      <th></th>\n",
       "      <th>image_id</th>\n",
       "      <th>prediction_id</th>\n",
       "      <th>confidence</th>\n",
       "      <th>polygon_id</th>\n",
       "      <th>prediction_class</th>\n",
       "      <th>xy</th>\n",
       "    </tr>\n",
       "  </thead>\n",
       "  <tbody>\n",
       "    <tr>\n",
       "      <th>0</th>\n",
       "      <td>3165</td>\n",
       "      <td>23699</td>\n",
       "      <td>0.431523</td>\n",
       "      <td>1937097</td>\n",
       "      <td>Defect</td>\n",
       "      <td>37.578460693359375,13.887542724609375,37.31016...</td>\n",
       "    </tr>\n",
       "    <tr>\n",
       "      <th>1</th>\n",
       "      <td>3165</td>\n",
       "      <td>23699</td>\n",
       "      <td>0.603884</td>\n",
       "      <td>1937098</td>\n",
       "      <td>Defect</td>\n",
       "      <td>231.45407104492188,9.646164820744442,225.45407...</td>\n",
       "    </tr>\n",
       "    <tr>\n",
       "      <th>2</th>\n",
       "      <td>3165</td>\n",
       "      <td>23699</td>\n",
       "      <td>0.244653</td>\n",
       "      <td>1937099</td>\n",
       "      <td>Defect</td>\n",
       "      <td>318.3146711077009,33.736045837402344,316.76688...</td>\n",
       "    </tr>\n",
       "    <tr>\n",
       "      <th>3</th>\n",
       "      <td>3165</td>\n",
       "      <td>23699</td>\n",
       "      <td>0.916268</td>\n",
       "      <td>1937100</td>\n",
       "      <td>Defect</td>\n",
       "      <td>395.9158020019531,82.97906857445126,387.915802...</td>\n",
       "    </tr>\n",
       "    <tr>\n",
       "      <th>4</th>\n",
       "      <td>3165</td>\n",
       "      <td>23699</td>\n",
       "      <td>0.366087</td>\n",
       "      <td>1937101</td>\n",
       "      <td>Defect</td>\n",
       "      <td>337.0517883300781,84.71218928584346,332.051788...</td>\n",
       "    </tr>\n",
       "  </tbody>\n",
       "</table>\n",
       "</div>"
      ],
      "text/plain": [
       "   image_id  prediction_id  confidence  polygon_id prediction_class  \\\n",
       "0      3165          23699    0.431523     1937097           Defect   \n",
       "1      3165          23699    0.603884     1937098           Defect   \n",
       "2      3165          23699    0.244653     1937099           Defect   \n",
       "3      3165          23699    0.916268     1937100           Defect   \n",
       "4      3165          23699    0.366087     1937101           Defect   \n",
       "\n",
       "                                                  xy  \n",
       "0  37.578460693359375,13.887542724609375,37.31016...  \n",
       "1  231.45407104492188,9.646164820744442,225.45407...  \n",
       "2  318.3146711077009,33.736045837402344,316.76688...  \n",
       "3  395.9158020019531,82.97906857445126,387.915802...  \n",
       "4  337.0517883300781,84.71218928584346,332.051788...  "
      ]
     },
     "execution_count": 5,
     "metadata": {},
     "output_type": "execute_result"
    }
   ],
   "source": [
    "pred_df.head()"
   ]
  },
  {
   "cell_type": "code",
   "execution_count": 6,
   "id": "da8cd568",
   "metadata": {},
   "outputs": [
    {
     "name": "stdout",
     "output_type": "stream",
     "text": [
      "\n",
      "==================================================\n",
      "Analysis of Prediction Data (pred_df)\n",
      "==================================================\n",
      "\n",
      "Shape: (7118, 6)\n",
      "\n",
      "Basic Information:\n",
      "<class 'pandas.core.frame.DataFrame'>\n",
      "Index: 7118 entries, 0 to 7117\n",
      "Data columns (total 6 columns):\n",
      " #   Column            Non-Null Count  Dtype  \n",
      "---  ------            --------------  -----  \n",
      " 0   image_id          7118 non-null   int64  \n",
      " 1   prediction_id     7118 non-null   int64  \n",
      " 2   confidence        7118 non-null   float64\n",
      " 3   polygon_id        7118 non-null   int64  \n",
      " 4   prediction_class  7118 non-null   object \n",
      " 5   xy                7118 non-null   object \n",
      "dtypes: float64(1), int64(3), object(2)\n",
      "memory usage: 389.3+ KB\n",
      "\n",
      "Missing Values:\n",
      "image_id            0\n",
      "prediction_id       0\n",
      "confidence          0\n",
      "polygon_id          0\n",
      "prediction_class    0\n",
      "xy                  0\n",
      "dtype: int64\n",
      "\n",
      "Object type summary statistics:\n",
      "       prediction_class                                                 xy\n",
      "count              7118                                               7118\n",
      "unique                1                                               7118\n",
      "top              Defect  37.578460693359375,13.887542724609375,37.31016...\n",
      "freq               7118                                                  1\n",
      "\n",
      "Numeric type summary statistics:\n",
      "          image_id  prediction_id   confidence    polygon_id\n",
      "count  7118.000000    7118.000000  7118.000000  7.118000e+03\n",
      "mean   1951.781540   23720.931863     0.512246  1.940022e+06\n",
      "std     813.485715      14.282011     0.302539  2.054934e+03\n",
      "min     624.000000   23699.000000     0.100062  1.936463e+06\n",
      "25%    1455.000000   23707.000000     0.218224  1.938242e+06\n",
      "50%    2021.000000   23721.000000     0.468183  1.940022e+06\n",
      "75%    2324.000000   23732.000000     0.820323  1.941801e+06\n",
      "max    3165.000000   23746.000000     0.990468  1.943580e+06\n",
      "\n",
      "Top 10 Unique Images and Their Counts:\n",
      "image_id\n",
      "1455    358\n",
      "3161    353\n",
      "2879    319\n",
      "3159    281\n",
      "2862    253\n",
      "1726    250\n",
      "2021    239\n",
      "1469    232\n",
      "1177    219\n",
      "2302    195\n",
      "Name: count, dtype: int64\n",
      "\n",
      "Unique Prediction Classes and Their Counts:\n",
      "prediction_class\n",
      "Defect    7118\n",
      "Name: count, dtype: int64\n",
      "\n",
      "Distribution of Confidence Scores:\n"
     ]
    },
    {
     "data": {
      "image/png": "[encoded data removed]",
      "text/plain": [
       "<Figure size 1200x600 with 1 Axes>"
      ]
     },
     "metadata": {},
     "output_type": "display_data"
    },
    {
     "name": "stdout",
     "output_type": "stream",
     "text": [
      "The plot above shows the distribution of the model's confidence scores across all predictions.\n"
     ]
    }
   ],
   "source": [
    "analyze_prediction_data(pred_df)"
   ]
  },
  {
   "cell_type": "markdown",
   "id": "82ed790c",
   "metadata": {},
   "source": [
    "### Comparative Analysis\n",
    "- comparison between the two dataset: anno_df and pred_df"
   ]
  },
  {
   "cell_type": "code",
   "execution_count": 7,
   "id": "5624b660",
   "metadata": {},
   "outputs": [
    {
     "name": "stdout",
     "output_type": "stream",
     "text": [
      "\n",
      "==================================================\n",
      "--- Comparative Analysis: Ground Truth vs. Predictions ---\n",
      "==================================================\n",
      "\n",
      "Number of unique images in Annotation data: 48\n",
      "Number of unique images in Prediction data: 48\n",
      "\n",
      "(a) Comparison of Annotation vs. Prediction Counts per Image (First 10):\n",
      "          num_annotations  num_predictions  difference\n",
      "image_id                                              \n",
      "624                    75              111          36\n",
      "627                   128              194          66\n",
      "631                    78              131          53\n",
      "645                    53              103          50\n",
      "646                    92              181          89\n",
      "648                    64              151          87\n",
      "653                     8               14           6\n",
      "654                    26               57          31\n",
      "655                    42               99          57\n",
      "1177                  105              219         114\n",
      "\n",
      "(b) Summary statistics for the difference (Predictions - Annotations):\n",
      "count     48.000000\n",
      "mean      72.291667\n",
      "std       44.590791\n",
      "min        2.000000\n",
      "25%       36.750000\n",
      "50%       68.500000\n",
      "75%       96.000000\n",
      "max      183.000000\n",
      "Name: difference, dtype: float64\n"
     ]
    },
    {
     "data": {
      "image/png": "[encoded data removed]",
      "text/plain": [
       "<Figure size 1200x600 with 1 Axes>"
      ]
     },
     "metadata": {},
     "output_type": "display_data"
    },
    {
     "name": "stdout",
     "output_type": "stream",
     "text": [
      "The plot above shows how often the model over-predicts (positive values) or under-predicts (negative values).\n",
      "A value of 0 means the model predicted the exact same number of defects as the human expert for that image.\n"
     ]
    }
   ],
   "source": [
    "compare_datasets(anno_df, pred_df)"
   ]
  },
  {
   "cell_type": "markdown",
   "id": "49ebd33c",
   "metadata": {},
   "source": [
    "## 3. Dataset discussion \n",
    "\n",
    "***Note:*** When we see the same `image_id` appearing in multiple rows, that tells us there are **multiple defect instances** annotated or predicted within the same source image. In other words:\n",
    "\n",
    "This multiplicity is expected: a single product photo can contain many defects, and our later matching logic (e.g. via IoU) will align each predicted region to a corresponding ground‑truth region (or declare it a false positive).\n",
    "\n",
    "---\n",
    "\n",
    "### Column Descriptions\n",
    "\n",
    "**anno_df (Dataset A: Ground‑Truth Annotations)**\n",
    "\n",
    "| Column             | Type           | Description                                                                                   |\n",
    "|--------------------|----------------|-----------------------------------------------------------------------------------------------|\n",
    "| filename         | string         | The image file name (e.g. \"1g_04.png\")                                                      |\n",
    "| image_id         | integer        | Unique numeric ID for each image                                                               |\n",
    "| id               | integer        | Unique ID of each annotation record                                                            |\n",
    "| defect_class_id  | integer        | Numeric code for the defect category (e.g. 7)                                                  |\n",
    "| label            | string         | Human‑readable defect class name (e.g. \"Mononukleäre Zelle\")                                 |\n",
    "| xy               | string         | Comma‑separated list of alternating x,y polygon vertices (\"x1,y1,x2,y2,...\")                 |\n",
    "| x                | string/list    | Comma‑separated or parsed Python list of the x‑coordinates of the polygon vertices             |\n",
    "| y                | string/list    | Comma‑separated or parsed Python list of the y‑coordinates of the polygon vertices             |\n",
    "\n",
    "\n",
    "### pred_df (Dataset B: Model Predictions)\n",
    "\n",
    "| Column             | Type           | Description                                                                                   |\n",
    "|--------------------|----------------|-----------------------------------------------------------------------------------------------|\n",
    "| image_id         | integer        | Unique numeric ID matching the source image                                                   |\n",
    "| prediction_id    | integer        | Unique ID for each predicted region                                                           |\n",
    "| confidence       | float (0–1)    | Model’s confidence score for this detection                                                   |\n",
    "| polygon_id       | integer        | ID for the predicted polygon (may match one of several for a given prediction_id)          |\n",
    "| prediction_class | string         | Defect class label predicted by the model (e.g. \"Defect\" or possibly more specific labels)  |\n",
    "| xy               | string         | Comma‑separated list of alternating x,y polygon vertices (\"x1,y1,x2,y2,...\")                 |\n",
    "\n"
   ]
  },
  {
   "cell_type": "code",
   "execution_count": null,
   "id": "2c7edf84",
   "metadata": {},
   "outputs": [],
   "source": []
  },
  {
   "cell_type": "markdown",
   "id": "700b4c88",
   "metadata": {},
   "source": [
    "## 4. Image Matching"
   ]
  },
  {
   "cell_type": "markdown",
   "id": "a4e583bc",
   "metadata": {},
   "source": [
    "My next step is to perform the critical task of matching the model's predictions to the ground truth annotations. This allows me to classify each prediction aa: \n",
    "* True Positive (TP)—a correct detection \n",
    "* False Positive (FP)—an incorrect detection. \n",
    "* It also allows me to count False Negatives (FN), which are real defects that the model missed entirely.\n",
    "\n",
    "**My methodology is as follows:**\n",
    "1. Polygon Parsing: First defined a robust utility function to parse the xy coordinate strings from the CSV files into a structured list of (x, y) tuples\n",
    "\n",
    "  - *Polygon* is simply the shape we use to mark the exact area of each defect in an image.\n",
    "\n",
    "  - Intersection over Union (IoU): I implemented a function to calculate the IoU between two polygons.\n",
    "    * IoU= Area of Union / Area of Overlap\n",
    "​\n",
    "3. Matching Algorithm: I processed the data on a per-image basis. For each image, I constructed an \"IoU matrix\" containing the IoU score for every possible pair of predictions and ground truth annotations.\n",
    "\n",
    "  * A prediction is considered a potential match for a ground truth annotation if their IoU is greater than or equal to a standard threshold of 0.5.\n",
    "  * To prevent a single real defect from being counted as multiple correct detections, each ground truth annotation can only be matched to one prediction (the one with the highest IoU).\n",
    "  * A prediction that is successfully matched to a ground truth annotation is classified as a True Positive (TP).\n",
    "  * A prediction that is not matched to any ground truth annotation (or whose best IoU is below the 0.5 threshold) is classified as a False Positive (FP).\n",
    "  * A ground truth annotation that is not matched by any suitable prediction is counted as a False Negative (FN).\n",
    " \n"
   ]
  },
  {
   "cell_type": "code",
   "execution_count": 8,
   "id": "e70ae3c2",
   "metadata": {},
   "outputs": [
    {
     "name": "stdout",
     "output_type": "stream",
     "text": [
      "Successfully reloaded datasets.\n"
     ]
    },
    {
     "data": {
      "application/vnd.jupyter.widget-view+json": {
       "model_id": "c120a08e477f45c2b6064f464d63f3fa",
       "version_major": 2,
       "version_minor": 0
      },
      "text/plain": [
       "Processing Images:   0%|          | 0/48 [00:00<?, ?it/s]"
      ]
     },
     "metadata": {},
     "output_type": "display_data"
    }
   ],
   "source": [
    "# import the module\n",
    "from scripts.image_matching import *"
   ]
  },
  {
   "cell_type": "code",
   "execution_count": 16,
   "id": "a6553e71",
   "metadata": {},
   "outputs": [
    {
     "name": "stdout",
     "output_type": "stream",
     "text": [
      "\n",
      "--- 4. Creating Final Matched DataFrame ---\n",
      "\n",
      "Total Predictions Processed: 7118\n",
      "True Positives (TP): 3111\n",
      "False Positives (FP): 4007\n",
      "Total False Negatives (FN): 537\n",
      "(FNs are ground truth objects the model failed to detect with IoU >= 0.5)\n"
     ]
    }
   ],
   "source": [
    "\n",
    "#Create the Final Matched DataFrame\n",
    "print(\"\\n--- 4. Creating Final Matched DataFrame ---\")\n",
    "matched_df = pd.DataFrame(results)\n",
    "\n",
    "print(f\"\\nTotal Predictions Processed: {len(matched_df)}\")\n",
    "print(f\"True Positives (TP): {len(matched_df[matched_df['match_type'] == 'TP'])}\")\n",
    "print(f\"False Positives (FP): {len(matched_df[matched_df['match_type'] == 'FP'])}\")\n",
    "print(f\"Total False Negatives (FN): {false_negatives_count}\")\n",
    "print(f\"(FNs are ground truth objects the model failed to detect with IoU >= {IOU_THRESHOLD})\")"
   ]
  },
  {
   "cell_type": "code",
   "execution_count": 12,
   "id": "95ebd202",
   "metadata": {},
   "outputs": [
    {
     "name": "stdout",
     "output_type": "stream",
     "text": [
      "\n",
      "(a) Head of the Matched DataFrame:\n",
      "   image_id  confidence       iou match_type\n",
      "0      3165    0.812472  0.857862         TP\n",
      "1      3165    0.369508  0.822336         TP\n",
      "2      3165    0.920065  0.734315         TP\n",
      "3      3165    0.989003  0.816013         TP\n",
      "4      3165    0.951678  0.868798         TP\n"
     ]
    }
   ],
   "source": [
    "print(\"\\n(a) Head of the Matched DataFrame:\")\n",
    "print(matched_df.head())"
   ]
  },
  {
   "cell_type": "code",
   "execution_count": 13,
   "id": "5b4b5871",
   "metadata": {},
   "outputs": [
    {
     "name": "stdout",
     "output_type": "stream",
     "text": [
      "\n",
      "(b) Tail of the Matched DataFrame:\n",
      "      image_id  confidence  iou match_type\n",
      "7113       624    0.185739  0.0         FP\n",
      "7114       624    0.305380  0.0         FP\n",
      "7115       624    0.275216  0.0         FP\n",
      "7116       624    0.124176  0.0         FP\n",
      "7117       624    0.941623  0.0         FP\n"
     ]
    }
   ],
   "source": [
    "\n",
    "print(\"\\n(b) Tail of the Matched DataFrame:\")\n",
    "print(matched_df.tail())"
   ]
  },
  {
   "cell_type": "code",
   "execution_count": 15,
   "id": "d776f0b8",
   "metadata": {},
   "outputs": [
    {
     "name": "stdout",
     "output_type": "stream",
     "text": [
      "\n",
      "(c) Description of the Matched DataFrame:\n",
      "           image_id   confidence          iou match_type\n",
      "count   7118.000000  7118.000000  7118.000000       7118\n",
      "unique          NaN          NaN          NaN          2\n",
      "top             NaN          NaN          NaN         FP\n",
      "freq            NaN          NaN          NaN       4007\n",
      "mean    1951.781540     0.512246     0.347224        NaN\n",
      "std      813.485715     0.302539     0.391325        NaN\n",
      "min      624.000000     0.100062     0.000000        NaN\n",
      "25%     1455.000000     0.218224     0.000000        NaN\n",
      "50%     2021.000000     0.468183     0.000000        NaN\n",
      "75%     2324.000000     0.820323     0.784058        NaN\n",
      "max     3165.000000     0.990468     0.936462        NaN\n"
     ]
    }
   ],
   "source": [
    "print(\"\\n(c) Description of the Matched DataFrame:\")\n",
    "print(matched_df.describe(include='all'))\n"
   ]
  },
  {
   "cell_type": "code",
   "execution_count": 20,
   "id": "fe1f8b0a",
   "metadata": {},
   "outputs": [
    {
     "name": "stdout",
     "output_type": "stream",
     "text": [
      "Matched Dataframe Successfully...\n"
     ]
    }
   ],
   "source": [
    "# save the matched dataframe\n",
    "matched_df.to_csv('../data/matched_df.csv')\n",
    "print(\"Matched Dataframe Successfully...\")"
   ]
  },
  {
   "cell_type": "markdown",
   "id": "ddd5d288",
   "metadata": {},
   "source": [
    "---\n",
    "\n",
    "**Note:**\n",
    "* This `matched_df` is now the foundation for our threshold analysis\n",
    "* Each raw is a prediction, classified as TP or FP, with its associated confidence and IoU\n",
    "\n",
    "---"
   ]
  },
  {
   "cell_type": "code",
   "execution_count": null,
   "id": "5244e4fe",
   "metadata": {},
   "outputs": [],
   "source": []
  }
 ],
 "metadata": {
  "kernelspec": {
   "display_name": ".venv",
   "language": "python",
   "name": "python3"
  },
  "language_info": {
   "codemirror_mode": {
    "name": "ipython",
    "version": 3
   },
   "file_extension": ".py",
   "mimetype": "text/x-python",
   "name": "python",
   "nbconvert_exporter": "python",
   "pygments_lexer": "ipython3",
   "version": "3.11.9"
  }
 },
 "nbformat": 4,
 "nbformat_minor": 5
}
